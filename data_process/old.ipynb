{
 "cells": [
  {
   "cell_type": "code",
   "execution_count": null,
   "metadata": {},
   "outputs": [],
   "source": [
    "%pip install yfinance pandas requests beautifulSoup4\n",
    "import yfinance as yf\n",
    "import pandas as pd\n",
    "import requests\n",
    "from bs4 import BeautifulSoup"
   ]
  },
  {
   "cell_type": "code",
   "execution_count": null,
   "metadata": {},
   "outputs": [],
   "source": [
    "# 設定台股與美股公司的股票代號\n",
    "taiwan_stocks = [\"2330.TW\", \"2303.TW\"]  # 台積電、聯電\n",
    "us_stocks = [\"AAPL\", \"MSFT\"]  # Apple、Microsoft\n",
    "\n",
    "# 儲存數據的字典\n",
    "data = {\n",
    "    \"stock\": [],\n",
    "    \"income_statement\": [],\n",
    "    \"balance_sheet\": [],\n",
    "    \"cash_flow\": [],\n",
    "    \"stock_prices\": [],\n",
    "}"
   ]
  },
  {
   "cell_type": "code",
   "execution_count": null,
   "metadata": {},
   "outputs": [],
   "source": [
    "# 爬取美股數據 (yfinance)\n",
    "def fetch_us_stock_data(stock_symbol):\n",
    "    print(f\"正在獲取美股 {stock_symbol} 的數據...\")\n",
    "    stock = yf.Ticker(stock_symbol)\n",
    "    # 損益表\n",
    "    income_statement = stock.financials\n",
    "    # 資產負債表\n",
    "    balance_sheet = stock.balance_sheet\n",
    "    # 現金流量表\n",
    "    cash_flow = stock.cashflow\n",
    "    # 股價數據\n",
    "    stock_prices = stock.history(period=\"10y\")  # 過去1年的股價數據\n",
    "    return income_statement, balance_sheet, cash_flow, stock_prices"
   ]
  },
  {
   "cell_type": "code",
   "execution_count": null,
   "metadata": {},
   "outputs": [],
   "source": [
    "from io import StringIO\n",
    "# 爬取台股數據 (台灣證交所公開資料)\n",
    "def fetch_taiwan_stock_data(stock_symbol):\n",
    "    print(f\"正在獲取台股 {stock_symbol} 的數據...\")\n",
    "    url = f\"https://mops.twse.com.tw/server-java/t164sb01?step=1&CO_ID={stock_symbol}&SYEAR=2023&SSEASON=4\"\n",
    "    response = requests.get(url)\n",
    "    soup = BeautifulSoup(response.text, \"html.parser\")\n",
    "    \n",
    "    # 假設需要從HTML中爬取損益表、資產負債表、現金流量表（具體欄位需根據網頁內容調整）\n",
    "    html_string = StringIO(response.text)\n",
    "    tables = pd.read_html(html_string)\n",
    "    if len(tables) >= 3:\n",
    "        income_statement = tables[0]  # 第一張表為損益表\n",
    "        balance_sheet = tables[1]    # 第二張表為資產負債表\n",
    "        cash_flow = tables[2]        # 第三張表為現金流量表\n",
    "    else:\n",
    "        income_statement = balance_sheet = cash_flow = pd.DataFrame()\n",
    "    \n",
    "    # 台股股價 (透過Yahoo Finance獲取)\n",
    "    stock = yf.Ticker(stock_symbol)\n",
    "    stock_prices = stock.history(period=\"1y\")  # 過去1年的股價數據\n",
    "    return income_statement, balance_sheet, cash_flow, stock_prices"
   ]
  },
  {
   "cell_type": "code",
   "execution_count": null,
   "metadata": {},
   "outputs": [],
   "source": [
    "# 主函數：處理美股與台股數據\n",
    "import os\n",
    "# 處理美股數據\n",
    "for stock in us_stocks:\n",
    "    income_statement, balance_sheet, cash_flow, stock_prices = fetch_us_stock_data(stock)\n",
    "    data[\"stock\"].append(stock)\n",
    "    data[\"income_statement\"].append(income_statement)\n",
    "    data[\"balance_sheet\"].append(balance_sheet)\n",
    "    data[\"cash_flow\"].append(cash_flow)\n",
    "    data[\"stock_prices\"].append(stock_prices)\n",
    "'''   \n",
    "# 處理台股數據\n",
    "for stock in taiwan_stocks:\n",
    "    income_statement, balance_sheet, cash_flow, stock_prices = fetch_taiwan_stock_data(stock)\n",
    "    data[\"stock\"].append(stock)\n",
    "    data[\"income_statement\"].append(income_statement)\n",
    "    data[\"balance_sheet\"].append(balance_sheet)\n",
    "    data[\"cash_flow\"].append(cash_flow)\n",
    "    data[\"stock_prices\"].append(stock_prices)\n",
    "'''\n",
    "# 保存數據到本地檔案\n",
    "for i, stock in enumerate(data[\"stock\"]):\n",
    "    print(f\"保存 {stock} 的數據...\")\n",
    "    path = f\"./{stock}\"\n",
    "    if not os.path.isdir(path):\n",
    "        os.mkdir(path)\n",
    "    data[\"income_statement\"][i].to_csv(f\"./{stock}/{stock}_income_statement.csv\")\n",
    "    data[\"balance_sheet\"][i].to_csv(f\"./{stock}/{stock}_balance_sheet.csv\")\n",
    "    data[\"cash_flow\"][i].to_csv(f\"./{stock}/{stock}_cash_flow.csv\")\n",
    "    data[\"stock_prices\"][i].to_csv(f\"./{stock}/{stock}_stock_prices.csv\")"
   ]
  }
 ],
 "metadata": {
  "kernelspec": {
   "display_name": "MLInvest",
   "language": "python",
   "name": "python3"
  },
  "language_info": {
   "name": "python",
   "version": "3.12.7"
  }
 },
 "nbformat": 4,
 "nbformat_minor": 2
}
