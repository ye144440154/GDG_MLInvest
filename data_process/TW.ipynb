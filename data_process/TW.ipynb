{
 "cells": [
  {
   "cell_type": "code",
   "execution_count": null,
   "metadata": {},
   "outputs": [
    {
     "name": "stdout",
     "output_type": "stream",
     "text": [
      "Requirement already satisfied: yfinance in c:\\users\\andy1\\anaconda3\\envs\\mlinvest\\lib\\site-packages (0.2.50)Note: you may need to restart the kernel to use updated packages.\n"
     ]
    },
    {
     "name": "stderr",
     "output_type": "stream",
     "text": [
      "ERROR: Could not find a version that satisfies the requirement json (from versions: none)\n",
      "ERROR: No matching distribution found for json\n"
     ]
    },
    {
     "name": "stdout",
     "output_type": "stream",
     "text": [
      "\n",
      "Requirement already satisfied: pandas in c:\\users\\andy1\\anaconda3\\envs\\mlinvest\\lib\\site-packages (2.2.3)\n",
      "Requirement already satisfied: requests in c:\\users\\andy1\\anaconda3\\envs\\mlinvest\\lib\\site-packages (2.32.3)\n",
      "Requirement already satisfied: beautifulSoup4 in c:\\users\\andy1\\anaconda3\\envs\\mlinvest\\lib\\site-packages (4.12.3)\n"
     ]
    }
   ],
   "source": [
    "#%pip install yfinance pandas requests beautifulSoup4\n",
    "import pandas as pd\n",
    "import requests\n",
    "import os\n",
    "import json\n",
    "import time\n",
    "import warnings\n",
    "from bs4 import BeautifulSoup\n",
    "from datetime import datetime\n",
    "\n",
    "warnings.filterwarnings(\"ignore\")\n",
    "\n"
   ]
  },
  {
   "cell_type": "code",
   "execution_count": 7,
   "metadata": {},
   "outputs": [],
   "source": [
    "def data_clean(data,df,sheet_type,season):\n",
    "\n",
    "    if(sheet_type == \"I\" or sheet_type == \"B\"):\n",
    "        if(season == 1):\n",
    "            data[\"會計項目\"]=df.iloc[:,0]\n",
    "            data[\"Q1金額\"]=df.iloc[:,1]\n",
    "            data[\"Q1百分比(%)\"]=\"\"\n",
    "            data[\"Q2金額\"]=\"\"\n",
    "            data[\"Q2百分比(%)\"]=\"\"\n",
    "            data[\"Q3金額\"]=\"\"\n",
    "            data[\"Q3百分比(%)\"]=\"\"\n",
    "            data[\"Q4金額\"]=\"\"\n",
    "            data[\"Q4百分比(%)\"]=\"\"\n",
    "        else:\n",
    "            data[f\"Q{season}金額\"]=df.iloc[:,1]\n",
    "            data[f\"Q{season}百分比(%)\"]=df.iloc[:,2]\n",
    "\n",
    "    elif (sheet_type == \"S\"):\n",
    "        \n",
    "        if(season == 1):\n",
    "            data[\"會計項目\"]=df.iloc[:,0]\n",
    "            data[\"Q1金額\"]=df.iloc[:,1]\n",
    "            data[\"Q2金額\"]=\"\"\n",
    "            data[\"Q3金額\"]=\"\"\n",
    "            data[\"Q4金額\"]=\"\"\n",
    "        else:\n",
    "            data[f\"Q{season}金額\"]=df.iloc[:,1]\n",
    "\n",
    "\n",
    "    return data"
   ]
  },
  {
   "cell_type": "code",
   "execution_count": null,
   "metadata": {},
   "outputs": [],
   "source": [
    "def get_financial_statement(sheet_type,co_id, year, season):\n",
    "\n",
    "    while True:\n",
    "        try:\n",
    "            \"\"\" \n",
    "            sheet_type 會計表類型 = I(income statement) B(Balance sheet) S(Statement of cash flows)\n",
    "            co_id=\"\" #四位數公司代碼\n",
    "            year=\"\" #國歷年分\n",
    "            season=\"\" #1~4 \n",
    "            \"\"\"\n",
    "            sheet_code=\"\"\n",
    "            if (sheet_type == \"I\"):\n",
    "                sheet_code = \"4\"\n",
    "            elif (sheet_type == \"B\"):\n",
    "                sheet_code = \"3\"\n",
    "            elif (sheet_type == \"S\"):\n",
    "                sheet_code = \"5\"\n",
    "            else:\n",
    "                print(\"Invalid sheet_type!\")\n",
    "                return pd.DataFrame()\n",
    "            year = str(year)\n",
    "            season = str(season)\n",
    "\n",
    "            url = f\"https://mopsov.twse.com.tw/mops/web/t164sb0{sheet_code}?encodeURIComponent=1&step=1&firstin=1&off=1&keyword4=&code1=&TYPEK2=&checkbtn=&queryName=co_id&inpuType=co_id&TYPEK=all&isnew=false&co_id={co_id}&year={year}&season=0{season}\"\n",
    "            headers = {\"User-Agent\": \"Mozilla/5.0\"}\n",
    "            #print(url)\n",
    "            # 取得網頁內容\n",
    "            response = requests.get(url, headers=headers)\n",
    "            response.encoding = 'utf8'  # 根據網頁編碼設定，若非 Big5 可調整\n",
    "            html_content = response.text\n",
    "\n",
    "\n",
    "            # 使用 BeautifulSoup 解析 HTML\n",
    "            try:\n",
    "                soup = BeautifulSoup(html_content, 'html.parser')\n",
    "            except ValueError :\n",
    "                print(f\"response has nothing to do. co_id:{co_id}\")\n",
    "\n",
    "            # 找到 <div id=\"table01\">\n",
    "            div_table = soup.find('div', id='table01')\n",
    "            if div_table:\n",
    "                # 將 <div id=\"table01\"> 中的 HTML 轉換為字串，再用 pandas 讀取表格\n",
    "                table_html = str(div_table)\n",
    "                \n",
    "                try:\n",
    "                    tables = pd.read_html(table_html)\n",
    "                except ValueError:\n",
    "                    print(f\"no data about TW_{co_id}_{year}_{season}_{sheet_type}\")\n",
    "                    return pd.DataFrame()\n",
    "\n",
    "            else : \n",
    "                print(\"爬蟲失敗 沒有找到表格\")\n",
    "\n",
    "            for table in tables:\n",
    "                if(table.shape[0] >10): # 因為tables裡面有其他東西ex.說明文字 故只取長度比較長的目標資料\n",
    "\n",
    "                    #table.to_csv(\"Test.csv\", index=False, encoding=\"utf-8-sig\")\n",
    "                    print(f\"TW_{co_id}_{year}_{season}_{sheet_type}  爬蟲完成,休眠3秒\")\n",
    "                    time.sleep(3)\n",
    "                    return table\n",
    "                \n",
    "            \n",
    "            print(f\"no data about TW_{co_id}_{year}_{season}_{sheet_type} \")\n",
    "            return pd.DataFrame()\n",
    "        \n",
    "        \n",
    "        except :\n",
    "            print(\"伺服器拒絕回應\")\n",
    "            print(\"睡個5秒\")\n",
    "            print(\"ZZzzzz...\")\n",
    "            time.sleep(5)\n",
    "            print(\"重新嘗試\")\n",
    "            continue"
   ]
  },
  {
   "cell_type": "code",
   "execution_count": 9,
   "metadata": {},
   "outputs": [],
   "source": [
    "def get_annual_financial(sheet_type,co_id, industry, year, base_dir):\n",
    "\n",
    "    save_path = os.path.join(base_dir,industry,co_id,str(year))\n",
    "    if not os.path.exists(save_path):\n",
    "        os.makedirs(save_path)\n",
    "\n",
    "    data = pd.DataFrame()\n",
    "    for season in range(1,5):\n",
    "        df= get_financial_statement(sheet_type,co_id, year,season)\n",
    "        if not(df.empty):\n",
    "            data_clean(data,df,sheet_type,season)\n",
    "    #print(data)\n",
    "    data.to_csv(os.path.join(save_path,f\"TW_{co_id}_{year}_{sheet_type}.csv\"), index=False, encoding=\"utf-8-sig\") # 第一個table1是目錄 需要的是第二個\n",
    "    #data.to_csv(\"Test.csv\", index=False, encoding=\"utf-8-sig\")\n"
   ]
  },
  {
   "cell_type": "code",
   "execution_count": null,
   "metadata": {},
   "outputs": [
    {
     "name": "stdout",
     "output_type": "stream",
     "text": [
      "TW_1203_106_4_I  爬蟲完成,休眠3秒\n"
     ]
    },
    {
     "data": {
      "text/plain": [
       "' for season in range(1,5):\\n    for year in range (end_year-year_range,end_year):\\n        for company_code, info in tw_stock.items():\\n            code = info.get(\"代號\")\\n            industry = info.get(\"產業別\")\\n            if(len(code) == 4 and industry != \"\"): #過濾非公司股票 \\n                #print(code,\"  \",industry)\\n                get_financial_statement(\"I\", code, industry, year, season, base_dir) # 取得損益表\\n                get_financial_statement(\"B\", code, industry, year, season, base_dir) # 取得資產負債表\\n                get_financial_statement(\"S\", code, industry, year, season, base_dir) # 取得現金流量表 '"
      ]
     },
     "execution_count": 10,
     "metadata": {},
     "output_type": "execute_result"
    }
   ],
   "source": [
    "# 讀取 JSON 檔案\n",
    "json_path = \"TW_stock.json\"\n",
    "with open(json_path, \"r\", encoding=\"utf-8\") as f:\n",
    "    tw_stock = json.load(f)\n",
    "\n",
    "# 檔案儲存根目錄\n",
    "base_dir = \"./TW\"\n",
    "\n",
    "# 確保目錄存在\n",
    "if not os.path.exists(base_dir):\n",
    "    os.makedirs(base_dir)\n",
    "\n",
    "\n",
    "end_year = 114\n",
    "year_range = 10\n",
    "\n",
    "\n",
    "#get_financial_statement(\"I\",\"1203\", 106, 4)\n",
    "\n",
    "\"\"\" for company_code, info in tw_stock.items():\n",
    "    code = info.get(\"代號\")\n",
    "    industry = info.get(\"產業別\")\n",
    "\n",
    "    if(len(code) == 4 and industry != \"\"): #過濾非公司股票 \n",
    "        #print(code,\"  \",industry)\n",
    "        for year in range (end_year-year_range,end_year):\n",
    "            get_annual_financial(\"I\", code, industry, year, base_dir) # 取得損益表\n",
    "            get_annual_financial(\"B\", code, industry, year, base_dir) # 取得資產負債表\n",
    "            get_annual_financial(\"S\", code, industry, year, base_dir) # 取得現金流量表 \"\"\"\n",
    "\n",
    "#get_annual_financial(\"I\", \"1101\", \"水泥工業\",\"105\", base_dir)  \n",
    "\n",
    "\"\"\" for season in range(1,5):\n",
    "    for year in range (end_year-year_range,end_year):\n",
    "        for company_code, info in tw_stock.items():\n",
    "            code = info.get(\"代號\")\n",
    "            industry = info.get(\"產業別\")\n",
    "            if(len(code) == 4 and industry != \"\"): #過濾非公司股票 \n",
    "                #print(code,\"  \",industry)\n",
    "                get_financial_statement(\"I\", code, industry, year, season, base_dir) # 取得損益表\n",
    "                get_financial_statement(\"B\", code, industry, year, season, base_dir) # 取得資產負債表\n",
    "                get_financial_statement(\"S\", code, industry, year, season, base_dir) # 取得現金流量表 \"\"\"\n",
    "\n",
    "n=0\n",
    "for company_code, info in tw_stock.items():\n",
    "    code = info.get(\"代號\")\n",
    "    industry = info.get(\"產業別\")\n",
    "    if(len(code) == 4 and industry != \"\"): #過濾非公司股票 \n",
    "        print(code,\"  \",industry)\n",
    "        n+=1\n",
    "\n"
   ]
  },
  {
   "cell_type": "code",
   "execution_count": null,
   "metadata": {},
   "outputs": [],
   "source": []
  }
 ],
 "metadata": {
  "kernelspec": {
   "display_name": "MLInvest",
   "language": "python",
   "name": "python3"
  },
  "language_info": {
   "codemirror_mode": {
    "name": "ipython",
    "version": 3
   },
   "file_extension": ".py",
   "mimetype": "text/x-python",
   "name": "python",
   "nbconvert_exporter": "python",
   "pygments_lexer": "ipython3",
   "version": "3.12.7"
  }
 },
 "nbformat": 4,
 "nbformat_minor": 2
}
